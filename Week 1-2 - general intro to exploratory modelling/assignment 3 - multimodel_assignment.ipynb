{
 "cells": [
  {
   "attachments": {},
   "cell_type": "markdown",
   "metadata": {},
   "source": [
    "# EPA1361 - Model-Based Decision Making\n",
    "\n",
    "## Multi-model analysis\n",
    "\n",
    "This exercise uses a simple version of the [Lotka-Volterra predator-prey equations](https://en.wikipedia.org/wiki/Lotka%E2%80%93Volterra_equations) to show how the EMA Workbench can be used for a\n",
    "multi-model analysis, in addition to typical parametric/structural uncertainties. This will let you test the connectors provided in the Workbench for Excel, NetLogo, and Vensim / PySD; we'll also use the models for the sensitivity analysis exercise in week 3.\n",
    "\n",
    "**Assignment**\n",
    "Using the three model files provided and the Python function below, define model objects for each implementation (Excel, NetLogo, Vensim/PySD, and Python), and test them using a single ensemble. Use 50 experiments sampled from the parameters below (so that each experiment will be executed for the 4 models, for a total of 200), and retrieve outputs for the _TIME_, _predators_, and _prey_ variables.\n",
    "   * Excel and Vensim are only supported on Windows\n",
    "   * Vensim requires the DSS version of Vensim\n",
    "   * Netlogo supoprt depends on [jpype](http://jpype.readthedocs.io/en/latest/install.html) and [pynetlogo](https://pynetlogo.readthedocs.io/en/latest/). Also, if you don't have NetLogo installed, please get [NetLogo 6.3.0](https://ccl.northwestern.edu/netlogo/download.shtml)\n",
    "   * for pysd, see [its documentation](http://pysd.readthedocs.io/en/master/installation.html)\n",
    "   * If possible try to work with all model versions, but even 2 or 3 (pure python and something else should be sufficient).\n",
    "\n",
    "\n",
    "|Parameter\t|Range or value\t        |\n",
    "|-----------|--------------:|\n",
    "|prey_birth_rate    \t|0.015 – 0.035\t|\n",
    "|predation_rate|0.0005 – 0.003 \t|\n",
    "|predator_efficiency     \t|0.001 – 0.004\t    |\n",
    "|predator_loss_rate\t    |0.04 – 0.08\t    |\n",
    "|Final time\t    |365\t    |\n",
    "|dt\t    |0.25\t    |\n",
    "\n",
    "* Note that your EMA Workbench installation includes [example scripts](https://github.com/quaquel/EMAworkbench/tree/master/ema_workbench/examples) for the different connectors. The different model objects follow a similar syntax but will need to be slightly adjusted depending on the software (e.g. to specify the NetLogo run length or the sheet name in Excel).\n",
    "  * This [tutorial](https://emaworkbench.readthedocs.io/en/latest/basic_tutorial.html) also shows a simple model in Python, Vensim and Excel connected to the workbench.\n",
    "\n",
    "* These model objects can be used with a replication functionality (for instance to test the effect of stochastic uncertainty in a NetLogo model), which repeats a given experiment over multiple replications. You can use a single replication in this exercise as the models are not stochastic. By default, each outcome array will then have a shape of (# experiments, # replications, # time steps). Try adapting the outcome arrays so that they can be used with the _lines_ plotting function of the Workbench, and plot the results grouped by model.\n",
    "\n",
    "* To check the graphical results, find the maximum absolute error of the time series you obtained for the _prey_ variable in the Excel, NetLogo, and Vensim/PySD models, relative to the Python function."
   ]
  },
  {
   "cell_type": "code",
   "execution_count": 1,
   "metadata": {
    "ExecuteTime": {
     "end_time": "2023-04-07T13:56:51.448651Z",
     "start_time": "2023-04-07T13:56:49.471035Z"
    },
    "collapsed": false
   },
   "outputs": [
    {
     "name": "stderr",
     "output_type": "stream",
     "text": [
      "c:\\Users\\ryant\\miniconda3\\envs\\ema\\Lib\\site-packages\\ema_workbench\\connectors\\__init__.py:19: ImportWarning: vensim connector not available\n",
      "  warnings.warn(\"vensim connector not available\", ImportWarning)\n",
      "c:\\Users\\ryant\\miniconda3\\envs\\ema\\Lib\\site-packages\\ema_workbench\\connectors\\__init__.py:34: ImportWarning: simio connector not available\n",
      "  warnings.warn(\"simio connector not available\", ImportWarning)\n"
     ]
    }
   ],
   "source": [
    "# Some imports you may need\n",
    "import numpy as np\n",
    "import matplotlib.pyplot as plt\n",
    "\n",
    "from ema_workbench import (Model, RealParameter, TimeSeriesOutcome, perform_experiments, ema_logging)\n",
    "\n",
    "from ema_workbench.connectors.netlogo import NetLogoModel\n",
    "from ema_workbench.connectors.excel import ExcelModel\n",
    "from ema_workbench.connectors.pysd_connector import PysdModel\n",
    "\n",
    "from ema_workbench.em_framework.samplers import LHSSampler\n",
    "from ema_workbench.em_framework.salib_samplers import MorrisSampler, SobolSampler\n",
    "\n",
    "from ema_workbench.analysis.plotting import lines, Density"
   ]
  },
  {
   "cell_type": "code",
   "execution_count": 9,
   "metadata": {},
   "outputs": [],
   "source": [
    "# Specify uncertainties\n",
    "ema_logging.log_to_stderr(ema_logging.INFO)\n",
    "\n",
    "uncertainties = [\n",
    "        RealParameter(\"prey_birth_rate\", 0.015, 0.035),\n",
    "        RealParameter(\"predation_rate\", 0.0005, 0.003),\n",
    "        RealParameter(\"predator_efficiency\", 0.001, 0.004),\n",
    "        RealParameter(\"predator_loss_rate\", 0.04, 0.08),\n",
    "    ]\n",
    "\n",
    "# Specify outcomes\n",
    "outcomes = [TimeSeriesOutcome('time', function=np.squeeze),\n",
    "            TimeSeriesOutcome('predators', function=np.squeeze),\n",
    "            TimeSeriesOutcome('prey', function=np.squeeze)]"
   ]
  },
  {
   "cell_type": "code",
   "execution_count": 10,
   "metadata": {},
   "outputs": [],
   "source": [
    "#Initialize the different models\n",
    "\n",
    "#Python Model\n",
    "from model.pred_prey import PredPrey\n",
    "\n",
    "py_model = Model('Python', function=PredPrey)\n",
    "py_model.uncertainties = uncertainties\n",
    "py_model.outcomes = outcomes\n",
    "\n",
    "#SD Model\n",
    "pysd_model = PysdModel('pysd', mdl_file=\"model/PredPrey.mdl\")\n",
    "pysd_model.uncertainties = uncertainties\n",
    "pysd_model.outcomes = outcomes"
   ]
  },
  {
   "cell_type": "code",
   "execution_count": 11,
   "metadata": {},
   "outputs": [
    {
     "name": "stderr",
     "output_type": "stream",
     "text": [
      "[MainProcess/INFO] performing 50 scenarios * 1 policies * 1 model(s) = 50 experiments\n",
      "\n",
      "\u001b[A[MainProcess/INFO] performing experiments sequentially\n",
      "[MainProcess/ERROR] 'time'\n",
      "Traceback (most recent call last):\n",
      "  File \"c:\\Users\\ryant\\miniconda3\\envs\\ema\\Lib\\site-packages\\pandas\\core\\indexes\\base.py\", line 3802, in get_loc\n",
      "    return self._engine.get_loc(casted_key)\n",
      "           ^^^^^^^^^^^^^^^^^^^^^^^^^^^^^^^^\n",
      "  File \"pandas\\_libs\\index.pyx\", line 138, in pandas._libs.index.IndexEngine.get_loc\n",
      "  File \"pandas\\_libs\\index.pyx\", line 165, in pandas._libs.index.IndexEngine.get_loc\n",
      "  File \"pandas\\_libs\\hashtable_class_helper.pxi\", line 5745, in pandas._libs.hashtable.PyObjectHashTable.get_item\n",
      "  File \"pandas\\_libs\\hashtable_class_helper.pxi\", line 5753, in pandas._libs.hashtable.PyObjectHashTable.get_item\n",
      "KeyError: 'time'\n",
      "\n",
      "The above exception was the direct cause of the following exception:\n",
      "\n",
      "Traceback (most recent call last):\n",
      "  File \"c:\\Users\\ryant\\miniconda3\\envs\\ema\\Lib\\site-packages\\ema_workbench\\em_framework\\experiment_runner.py\", line 91, in run_experiment\n",
      "    model.run_model(scenario, policy)\n",
      "  File \"c:\\Users\\ryant\\miniconda3\\envs\\ema\\Lib\\site-packages\\ema_workbench\\util\\ema_logging.py\", line 152, in wrapper\n",
      "    res = func(*args, **kwargs)\n",
      "          ^^^^^^^^^^^^^^^^^^^^^\n",
      "  File \"c:\\Users\\ryant\\miniconda3\\envs\\ema\\Lib\\site-packages\\ema_workbench\\em_framework\\model.py\", line 339, in run_model\n",
      "    outputs = self.run_experiment(experiment)\n",
      "              ^^^^^^^^^^^^^^^^^^^^^^^^^^^^^^^\n",
      "  File \"c:\\Users\\ryant\\miniconda3\\envs\\ema\\Lib\\site-packages\\ema_workbench\\util\\ema_logging.py\", line 152, in wrapper\n",
      "    res = func(*args, **kwargs)\n",
      "          ^^^^^^^^^^^^^^^^^^^^^\n",
      "  File \"c:\\Users\\ryant\\miniconda3\\envs\\ema\\Lib\\site-packages\\ema_workbench\\connectors\\pysd_connector.py\", line 64, in run_experiment\n",
      "    res = self.model.run(params=experiment, return_columns=self.output_variables)\n",
      "          ^^^^^^^^^^^^^^^^^^^^^^^^^^^^^^^^^^^^^^^^^^^^^^^^^^^^^^^^^^^^^^^^^^^^^^^\n",
      "  File \"c:\\Users\\ryant\\miniconda3\\envs\\ema\\Lib\\site-packages\\pysd\\py_backend\\model.py\", line 1508, in run\n",
      "    return output.postprocess(\n",
      "           ^^^^^^^^^^^^^^^^^^^\n",
      "  File \"c:\\Users\\ryant\\miniconda3\\envs\\ema\\Lib\\site-packages\\pysd\\py_backend\\output.py\", line 65, in postprocess\n",
      "    return self.handler.postprocess(**kwargs)\n",
      "           ^^^^^^^^^^^^^^^^^^^^^^^^^^^^^^^^^^\n",
      "  File \"c:\\Users\\ryant\\miniconda3\\envs\\ema\\Lib\\site-packages\\pysd\\py_backend\\output.py\", line 465, in postprocess\n",
      "    df = DataFrameHandler.make_flat_df(\n",
      "         ^^^^^^^^^^^^^^^^^^^^^^^^^^^^^^\n",
      "  File \"c:\\Users\\ryant\\miniconda3\\envs\\ema\\Lib\\site-packages\\pysd\\py_backend\\output.py\", line 529, in make_flat_df\n",
      "    values = df[pyname].to_list()\n",
      "             ~~^^^^^^^^\n",
      "  File \"c:\\Users\\ryant\\miniconda3\\envs\\ema\\Lib\\site-packages\\pandas\\core\\frame.py\", line 3807, in __getitem__\n",
      "    indexer = self.columns.get_loc(key)\n",
      "              ^^^^^^^^^^^^^^^^^^^^^^^^^\n",
      "  File \"c:\\Users\\ryant\\miniconda3\\envs\\ema\\Lib\\site-packages\\pandas\\core\\indexes\\base.py\", line 3804, in get_loc\n",
      "    raise KeyError(key) from err\n",
      "KeyError: 'time'\n"
     ]
    },
    {
     "ename": "EMAError",
     "evalue": "exception in run_model\nCaused by: KeyError: 'time'",
     "output_type": "error",
     "traceback": [
      "\u001b[1;31m---------------------------------------------------------------------------\u001b[0m",
      "\u001b[1;31mKeyError\u001b[0m                                  Traceback (most recent call last)",
      "File \u001b[1;32mc:\\Users\\ryant\\miniconda3\\envs\\ema\\Lib\\site-packages\\pandas\\core\\indexes\\base.py:3802\u001b[0m, in \u001b[0;36mIndex.get_loc\u001b[1;34m(self, key, method, tolerance)\u001b[0m\n\u001b[0;32m   3801\u001b[0m \u001b[39mtry\u001b[39;00m:\n\u001b[1;32m-> 3802\u001b[0m     \u001b[39mreturn\u001b[39;00m \u001b[39mself\u001b[39;49m\u001b[39m.\u001b[39;49m_engine\u001b[39m.\u001b[39;49mget_loc(casted_key)\n\u001b[0;32m   3803\u001b[0m \u001b[39mexcept\u001b[39;00m \u001b[39mKeyError\u001b[39;00m \u001b[39mas\u001b[39;00m err:\n",
      "File \u001b[1;32mc:\\Users\\ryant\\miniconda3\\envs\\ema\\Lib\\site-packages\\pandas\\_libs\\index.pyx:138\u001b[0m, in \u001b[0;36mpandas._libs.index.IndexEngine.get_loc\u001b[1;34m()\u001b[0m\n",
      "File \u001b[1;32mc:\\Users\\ryant\\miniconda3\\envs\\ema\\Lib\\site-packages\\pandas\\_libs\\index.pyx:165\u001b[0m, in \u001b[0;36mpandas._libs.index.IndexEngine.get_loc\u001b[1;34m()\u001b[0m\n",
      "File \u001b[1;32mpandas\\_libs\\hashtable_class_helper.pxi:5745\u001b[0m, in \u001b[0;36mpandas._libs.hashtable.PyObjectHashTable.get_item\u001b[1;34m()\u001b[0m\n",
      "File \u001b[1;32mpandas\\_libs\\hashtable_class_helper.pxi:5753\u001b[0m, in \u001b[0;36mpandas._libs.hashtable.PyObjectHashTable.get_item\u001b[1;34m()\u001b[0m\n",
      "\u001b[1;31mKeyError\u001b[0m: 'time'",
      "\nThe above exception was the direct cause of the following exception:\n",
      "\u001b[1;31mKeyError\u001b[0m                                  Traceback (most recent call last)",
      "File \u001b[1;32mc:\\Users\\ryant\\miniconda3\\envs\\ema\\Lib\\site-packages\\ema_workbench\\em_framework\\experiment_runner.py:91\u001b[0m, in \u001b[0;36mExperimentRunner.run_experiment\u001b[1;34m(self, experiment)\u001b[0m\n\u001b[0;32m     90\u001b[0m \u001b[39mtry\u001b[39;00m:\n\u001b[1;32m---> 91\u001b[0m     model\u001b[39m.\u001b[39;49mrun_model(scenario, policy)\n\u001b[0;32m     92\u001b[0m \u001b[39mexcept\u001b[39;00m CaseError \u001b[39mas\u001b[39;00m e:\n",
      "File \u001b[1;32mc:\\Users\\ryant\\miniconda3\\envs\\ema\\Lib\\site-packages\\ema_workbench\\util\\ema_logging.py:152\u001b[0m, in \u001b[0;36mmethod_logger.<locals>.real_decorator.<locals>.wrapper\u001b[1;34m(*args, **kwargs)\u001b[0m\n\u001b[0;32m    151\u001b[0m logger\u001b[39m.\u001b[39mdebug(\u001b[39mf\u001b[39m\u001b[39m\"\u001b[39m\u001b[39mcalling \u001b[39m\u001b[39m{\u001b[39;00mfunc\u001b[39m.\u001b[39m\u001b[39m__name__\u001b[39m\u001b[39m}\u001b[39;00m\u001b[39m on \u001b[39m\u001b[39m{\u001b[39;00mclassname\u001b[39m}\u001b[39;00m\u001b[39m\"\u001b[39m)\n\u001b[1;32m--> 152\u001b[0m res \u001b[39m=\u001b[39m func(\u001b[39m*\u001b[39;49margs, \u001b[39m*\u001b[39;49m\u001b[39m*\u001b[39;49mkwargs)\n\u001b[0;32m    153\u001b[0m logger\u001b[39m.\u001b[39mdebug(\u001b[39mf\u001b[39m\u001b[39m\"\u001b[39m\u001b[39mcompleted calling \u001b[39m\u001b[39m{\u001b[39;00mfunc\u001b[39m.\u001b[39m\u001b[39m__name__\u001b[39m\u001b[39m}\u001b[39;00m\u001b[39m on \u001b[39m\u001b[39m{\u001b[39;00mclassname\u001b[39m}\u001b[39;00m\u001b[39m\"\u001b[39m)\n",
      "File \u001b[1;32mc:\\Users\\ryant\\miniconda3\\envs\\ema\\Lib\\site-packages\\ema_workbench\\em_framework\\model.py:339\u001b[0m, in \u001b[0;36mSingleReplication.run_model\u001b[1;34m(self, scenario, policy)\u001b[0m\n\u001b[0;32m    337\u001b[0m experiment \u001b[39m=\u001b[39m ExperimentReplication(scenario, \u001b[39mself\u001b[39m\u001b[39m.\u001b[39mpolicy, constants)\n\u001b[1;32m--> 339\u001b[0m outputs \u001b[39m=\u001b[39m \u001b[39mself\u001b[39;49m\u001b[39m.\u001b[39;49mrun_experiment(experiment)\n\u001b[0;32m    341\u001b[0m \u001b[39mself\u001b[39m\u001b[39m.\u001b[39moutcomes_output \u001b[39m=\u001b[39m outputs\n",
      "File \u001b[1;32mc:\\Users\\ryant\\miniconda3\\envs\\ema\\Lib\\site-packages\\ema_workbench\\util\\ema_logging.py:152\u001b[0m, in \u001b[0;36mmethod_logger.<locals>.real_decorator.<locals>.wrapper\u001b[1;34m(*args, **kwargs)\u001b[0m\n\u001b[0;32m    151\u001b[0m logger\u001b[39m.\u001b[39mdebug(\u001b[39mf\u001b[39m\u001b[39m\"\u001b[39m\u001b[39mcalling \u001b[39m\u001b[39m{\u001b[39;00mfunc\u001b[39m.\u001b[39m\u001b[39m__name__\u001b[39m\u001b[39m}\u001b[39;00m\u001b[39m on \u001b[39m\u001b[39m{\u001b[39;00mclassname\u001b[39m}\u001b[39;00m\u001b[39m\"\u001b[39m)\n\u001b[1;32m--> 152\u001b[0m res \u001b[39m=\u001b[39m func(\u001b[39m*\u001b[39;49margs, \u001b[39m*\u001b[39;49m\u001b[39m*\u001b[39;49mkwargs)\n\u001b[0;32m    153\u001b[0m logger\u001b[39m.\u001b[39mdebug(\u001b[39mf\u001b[39m\u001b[39m\"\u001b[39m\u001b[39mcompleted calling \u001b[39m\u001b[39m{\u001b[39;00mfunc\u001b[39m.\u001b[39m\u001b[39m__name__\u001b[39m\u001b[39m}\u001b[39;00m\u001b[39m on \u001b[39m\u001b[39m{\u001b[39;00mclassname\u001b[39m}\u001b[39;00m\u001b[39m\"\u001b[39m)\n",
      "File \u001b[1;32mc:\\Users\\ryant\\miniconda3\\envs\\ema\\Lib\\site-packages\\ema_workbench\\connectors\\pysd_connector.py:64\u001b[0m, in \u001b[0;36mBasePysdModel.run_experiment\u001b[1;34m(self, experiment)\u001b[0m\n\u001b[0;32m     62\u001b[0m \u001b[39m@method_logger\u001b[39m(\u001b[39m__name__\u001b[39m)\n\u001b[0;32m     63\u001b[0m \u001b[39mdef\u001b[39;00m \u001b[39mrun_experiment\u001b[39m(\u001b[39mself\u001b[39m, experiment):\n\u001b[1;32m---> 64\u001b[0m     res \u001b[39m=\u001b[39m \u001b[39mself\u001b[39;49m\u001b[39m.\u001b[39;49mmodel\u001b[39m.\u001b[39;49mrun(params\u001b[39m=\u001b[39;49mexperiment, return_columns\u001b[39m=\u001b[39;49m\u001b[39mself\u001b[39;49m\u001b[39m.\u001b[39;49moutput_variables)\n\u001b[0;32m     66\u001b[0m     \u001b[39m# EMA wants output formatted properly\u001b[39;00m\n",
      "File \u001b[1;32mc:\\Users\\ryant\\miniconda3\\envs\\ema\\Lib\\site-packages\\pysd\\py_backend\\model.py:1508\u001b[0m, in \u001b[0;36mModel.run\u001b[1;34m(self, params, return_columns, return_timestamps, initial_condition, final_time, time_step, saveper, reload, progress, flatten_output, cache_output, output_file)\u001b[0m\n\u001b[0;32m   1506\u001b[0m \u001b[39mself\u001b[39m\u001b[39m.\u001b[39m_remove_constant_cache()\n\u001b[1;32m-> 1508\u001b[0m \u001b[39mreturn\u001b[39;00m output\u001b[39m.\u001b[39;49mpostprocess(\n\u001b[0;32m   1509\u001b[0m     return_addresses\u001b[39m=\u001b[39;49mreturn_addresses, flatten\u001b[39m=\u001b[39;49mflatten_output)\n",
      "File \u001b[1;32mc:\\Users\\ryant\\miniconda3\\envs\\ema\\Lib\\site-packages\\pysd\\py_backend\\output.py:65\u001b[0m, in \u001b[0;36mModelOutput.postprocess\u001b[1;34m(self, **kwargs)\u001b[0m\n\u001b[0;32m     63\u001b[0m \u001b[39m\u001b[39m\u001b[39m\"\"\" Delegating the postprocessing of the results object to the\u001b[39;00m\n\u001b[0;32m     64\u001b[0m \u001b[39mappropriate handler.\"\"\"\u001b[39;00m\n\u001b[1;32m---> 65\u001b[0m \u001b[39mreturn\u001b[39;00m \u001b[39mself\u001b[39;49m\u001b[39m.\u001b[39;49mhandler\u001b[39m.\u001b[39;49mpostprocess(\u001b[39m*\u001b[39;49m\u001b[39m*\u001b[39;49mkwargs)\n",
      "File \u001b[1;32mc:\\Users\\ryant\\miniconda3\\envs\\ema\\Lib\\site-packages\\pysd\\py_backend\\output.py:465\u001b[0m, in \u001b[0;36mDataFrameHandler.postprocess\u001b[1;34m(self, **kwargs)\u001b[0m\n\u001b[0;32m    463\u001b[0m flatten \u001b[39m=\u001b[39m \u001b[39mTrue\u001b[39;00m \u001b[39mif\u001b[39;00m \u001b[39mself\u001b[39m\u001b[39m.\u001b[39mout_file \u001b[39melse\u001b[39;00m kwargs\u001b[39m.\u001b[39mget(\u001b[39m\"\u001b[39m\u001b[39mflatten\u001b[39m\u001b[39m\"\u001b[39m, \u001b[39mNone\u001b[39;00m)\n\u001b[1;32m--> 465\u001b[0m df \u001b[39m=\u001b[39m DataFrameHandler\u001b[39m.\u001b[39;49mmake_flat_df(\n\u001b[0;32m    466\u001b[0m     \u001b[39mself\u001b[39;49m\u001b[39m.\u001b[39;49mds, kwargs[\u001b[39m\"\u001b[39;49m\u001b[39mreturn_addresses\u001b[39;49m\u001b[39m\"\u001b[39;49m], flatten\n\u001b[0;32m    467\u001b[0m     )\n\u001b[0;32m    468\u001b[0m \u001b[39mif\u001b[39;00m \u001b[39mself\u001b[39m\u001b[39m.\u001b[39mout_file:\n",
      "File \u001b[1;32mc:\\Users\\ryant\\miniconda3\\envs\\ema\\Lib\\site-packages\\pysd\\py_backend\\output.py:529\u001b[0m, in \u001b[0;36mDataFrameHandler.make_flat_df\u001b[1;34m(df, return_addresses, flatten)\u001b[0m\n\u001b[0;32m    527\u001b[0m \u001b[39melse\u001b[39;00m:\n\u001b[0;32m    528\u001b[0m     \u001b[39m# get the full column\u001b[39;00m\n\u001b[1;32m--> 529\u001b[0m     values \u001b[39m=\u001b[39m df[pyname]\u001b[39m.\u001b[39mto_list()\n\u001b[0;32m    531\u001b[0m is_dataarray \u001b[39m=\u001b[39m \u001b[39mlen\u001b[39m(values) \u001b[39m!=\u001b[39m \u001b[39m0\u001b[39m \u001b[39mand\u001b[39;00m \u001b[39misinstance\u001b[39m(\n\u001b[0;32m    532\u001b[0m     values[\u001b[39m0\u001b[39m], xr\u001b[39m.\u001b[39mDataArray)\n",
      "File \u001b[1;32mc:\\Users\\ryant\\miniconda3\\envs\\ema\\Lib\\site-packages\\pandas\\core\\frame.py:3807\u001b[0m, in \u001b[0;36mDataFrame.__getitem__\u001b[1;34m(self, key)\u001b[0m\n\u001b[0;32m   3806\u001b[0m     \u001b[39mreturn\u001b[39;00m \u001b[39mself\u001b[39m\u001b[39m.\u001b[39m_getitem_multilevel(key)\n\u001b[1;32m-> 3807\u001b[0m indexer \u001b[39m=\u001b[39m \u001b[39mself\u001b[39;49m\u001b[39m.\u001b[39;49mcolumns\u001b[39m.\u001b[39;49mget_loc(key)\n\u001b[0;32m   3808\u001b[0m \u001b[39mif\u001b[39;00m is_integer(indexer):\n",
      "File \u001b[1;32mc:\\Users\\ryant\\miniconda3\\envs\\ema\\Lib\\site-packages\\pandas\\core\\indexes\\base.py:3804\u001b[0m, in \u001b[0;36mIndex.get_loc\u001b[1;34m(self, key, method, tolerance)\u001b[0m\n\u001b[0;32m   3803\u001b[0m \u001b[39mexcept\u001b[39;00m \u001b[39mKeyError\u001b[39;00m \u001b[39mas\u001b[39;00m err:\n\u001b[1;32m-> 3804\u001b[0m     \u001b[39mraise\u001b[39;00m \u001b[39mKeyError\u001b[39;00m(key) \u001b[39mfrom\u001b[39;00m \u001b[39merr\u001b[39;00m\n\u001b[0;32m   3805\u001b[0m \u001b[39mexcept\u001b[39;00m \u001b[39mTypeError\u001b[39;00m:\n\u001b[0;32m   3806\u001b[0m     \u001b[39m# If we have a listlike key, _check_indexing_error will raise\u001b[39;00m\n\u001b[0;32m   3807\u001b[0m     \u001b[39m#  InvalidIndexError. Otherwise we fall through and re-raise\u001b[39;00m\n\u001b[0;32m   3808\u001b[0m     \u001b[39m#  the TypeError.\u001b[39;00m\n",
      "\u001b[1;31mKeyError\u001b[0m: 'time'",
      "\nDuring handling of the above exception, another exception occurred:\n",
      "\u001b[1;31mEMAError\u001b[0m                                  Traceback (most recent call last)",
      "Cell \u001b[1;32mIn[11], line 6\u001b[0m\n\u001b[0;32m      2\u001b[0m \u001b[39mfrom\u001b[39;00m \u001b[39mema_workbench\u001b[39;00m \u001b[39mimport\u001b[39;00m Samplers\n\u001b[0;32m      4\u001b[0m nr_experiments \u001b[39m=\u001b[39m \u001b[39m50\u001b[39m\n\u001b[1;32m----> 6\u001b[0m experiments, outcomes \u001b[39m=\u001b[39m perform_experiments([pysd_model],\n\u001b[0;32m      7\u001b[0m                                   nr_experiments, uncertainty_sampling\u001b[39m=\u001b[39;49mSamplers\u001b[39m.\u001b[39;49mLHS)\n",
      "File \u001b[1;32mc:\\Users\\ryant\\miniconda3\\envs\\ema\\Lib\\site-packages\\ema_workbench\\em_framework\\evaluators.py:568\u001b[0m, in \u001b[0;36mperform_experiments\u001b[1;34m(models, scenarios, policies, evaluator, reporting_interval, reporting_frequency, uncertainty_union, lever_union, outcome_union, uncertainty_sampling, lever_sampling, callback, return_callback, combine, log_progress)\u001b[0m\n\u001b[0;32m    565\u001b[0m \u001b[39mif\u001b[39;00m \u001b[39mnot\u001b[39;00m evaluator:\n\u001b[0;32m    566\u001b[0m     evaluator \u001b[39m=\u001b[39m SequentialEvaluator(models)\n\u001b[1;32m--> 568\u001b[0m evaluator\u001b[39m.\u001b[39;49mevaluate_experiments(scenarios, policies, callback, combine\u001b[39m=\u001b[39;49mcombine)\n\u001b[0;32m    570\u001b[0m \u001b[39mif\u001b[39;00m callback\u001b[39m.\u001b[39mi \u001b[39m!=\u001b[39m nr_of_exp:\n\u001b[0;32m    571\u001b[0m     \u001b[39mraise\u001b[39;00m EMAError(\n\u001b[0;32m    572\u001b[0m         (\n\u001b[0;32m    573\u001b[0m             \u001b[39m\"\u001b[39m\u001b[39msome fatal error has occurred while \u001b[39m\u001b[39m\"\u001b[39m\n\u001b[1;32m   (...)\u001b[0m\n\u001b[0;32m    576\u001b[0m         )\u001b[39m.\u001b[39mformat(nr_of_exp, callback\u001b[39m.\u001b[39mi)\n\u001b[0;32m    577\u001b[0m     )\n",
      "File \u001b[1;32mc:\\Users\\ryant\\miniconda3\\envs\\ema\\Lib\\site-packages\\ema_workbench\\em_framework\\evaluators.py:311\u001b[0m, in \u001b[0;36mSequentialEvaluator.evaluate_experiments\u001b[1;34m(self, scenarios, policies, callback, combine)\u001b[0m\n\u001b[0;32m    308\u001b[0m runner \u001b[39m=\u001b[39m ExperimentRunner(models)\n\u001b[0;32m    310\u001b[0m \u001b[39mfor\u001b[39;00m experiment \u001b[39min\u001b[39;00m ex_gen:\n\u001b[1;32m--> 311\u001b[0m     outcomes \u001b[39m=\u001b[39m runner\u001b[39m.\u001b[39;49mrun_experiment(experiment)\n\u001b[0;32m    312\u001b[0m     callback(experiment, outcomes)\n\u001b[0;32m    313\u001b[0m runner\u001b[39m.\u001b[39mcleanup()\n",
      "File \u001b[1;32mc:\\Users\\ryant\\miniconda3\\envs\\ema\\Lib\\site-packages\\ema_workbench\\util\\ema_logging.py:152\u001b[0m, in \u001b[0;36mmethod_logger.<locals>.real_decorator.<locals>.wrapper\u001b[1;34m(*args, **kwargs)\u001b[0m\n\u001b[0;32m    147\u001b[0m \u001b[39m@wraps\u001b[39m(func)\n\u001b[0;32m    148\u001b[0m \u001b[39mdef\u001b[39;00m \u001b[39mwrapper\u001b[39m(\u001b[39m*\u001b[39margs, \u001b[39m*\u001b[39m\u001b[39m*\u001b[39mkwargs):\n\u001b[0;32m    149\u001b[0m     \u001b[39m# hack, because log is applied to methods, we can get\u001b[39;00m\n\u001b[0;32m    150\u001b[0m     \u001b[39m# object instance as first arguments in args\u001b[39;00m\n\u001b[0;32m    151\u001b[0m     logger\u001b[39m.\u001b[39mdebug(\u001b[39mf\u001b[39m\u001b[39m\"\u001b[39m\u001b[39mcalling \u001b[39m\u001b[39m{\u001b[39;00mfunc\u001b[39m.\u001b[39m\u001b[39m__name__\u001b[39m\u001b[39m}\u001b[39;00m\u001b[39m on \u001b[39m\u001b[39m{\u001b[39;00mclassname\u001b[39m}\u001b[39;00m\u001b[39m\"\u001b[39m)\n\u001b[1;32m--> 152\u001b[0m     res \u001b[39m=\u001b[39m func(\u001b[39m*\u001b[39;49margs, \u001b[39m*\u001b[39;49m\u001b[39m*\u001b[39;49mkwargs)\n\u001b[0;32m    153\u001b[0m     logger\u001b[39m.\u001b[39mdebug(\u001b[39mf\u001b[39m\u001b[39m\"\u001b[39m\u001b[39mcompleted calling \u001b[39m\u001b[39m{\u001b[39;00mfunc\u001b[39m.\u001b[39m\u001b[39m__name__\u001b[39m\u001b[39m}\u001b[39;00m\u001b[39m on \u001b[39m\u001b[39m{\u001b[39;00mclassname\u001b[39m}\u001b[39;00m\u001b[39m\"\u001b[39m)\n\u001b[0;32m    154\u001b[0m     \u001b[39mreturn\u001b[39;00m res\n",
      "File \u001b[1;32mc:\\Users\\ryant\\miniconda3\\envs\\ema\\Lib\\site-packages\\ema_workbench\\em_framework\\experiment_runner.py:107\u001b[0m, in \u001b[0;36mExperimentRunner.run_experiment\u001b[1;34m(self, experiment)\u001b[0m\n\u001b[0;32m    101\u001b[0m     \u001b[39m#             exception = traceback.print_exc()\u001b[39;00m\n\u001b[0;32m    102\u001b[0m     \u001b[39m#             if exception:\u001b[39;00m\n\u001b[0;32m    103\u001b[0m     \u001b[39m#                 sys.stderr.write(exception)\u001b[39;00m\n\u001b[0;32m    104\u001b[0m     \u001b[39m#                 sys.stderr.write(\"\\n\")\u001b[39;00m\n\u001b[0;32m    106\u001b[0m     errortype \u001b[39m=\u001b[39m \u001b[39mtype\u001b[39m(e)\u001b[39m.\u001b[39m\u001b[39m__name__\u001b[39m\n\u001b[1;32m--> 107\u001b[0m     \u001b[39mraise\u001b[39;00m EMAError(\u001b[39mf\u001b[39m\u001b[39m\"\u001b[39m\u001b[39mexception in run_model\u001b[39m\u001b[39m\\n\u001b[39;00m\u001b[39mCaused by: \u001b[39m\u001b[39m{\u001b[39;00merrortype\u001b[39m}\u001b[39;00m\u001b[39m: \u001b[39m\u001b[39m{\u001b[39;00m\u001b[39mstr\u001b[39m(e)\u001b[39m}\u001b[39;00m\u001b[39m\"\u001b[39m)\n\u001b[0;32m    109\u001b[0m outcomes \u001b[39m=\u001b[39m model\u001b[39m.\u001b[39moutcomes_output\n\u001b[0;32m    110\u001b[0m model\u001b[39m.\u001b[39mreset_model()\n",
      "\u001b[1;31mEMAError\u001b[0m: exception in run_model\nCaused by: KeyError: 'time'"
     ]
    }
   ],
   "source": [
    "#Perform Experiment - Choose Sampling\n",
    "from ema_workbench import Samplers\n",
    "\n",
    "nr_experiments = 50\n",
    "\n",
    "experiments, outcomes = perform_experiments([pysd_model],\n",
    "                                  nr_experiments, uncertainty_sampling=Samplers.LHS)"
   ]
  },
  {
   "cell_type": "code",
   "execution_count": 12,
   "metadata": {},
   "outputs": [
    {
     "ename": "NameError",
     "evalue": "name 'experiments' is not defined",
     "output_type": "error",
     "traceback": [
      "\u001b[1;31m---------------------------------------------------------------------------\u001b[0m",
      "\u001b[1;31mNameError\u001b[0m                                 Traceback (most recent call last)",
      "Cell \u001b[1;32mIn[12], line 1\u001b[0m\n\u001b[1;32m----> 1\u001b[0m experiments_to_show \u001b[39m=\u001b[39m np\u001b[39m.\u001b[39marange(\u001b[39m0\u001b[39m, experiments\u001b[39m.\u001b[39mshape[\u001b[39m0\u001b[39m], \u001b[39m1\u001b[39m)\n\u001b[0;32m      3\u001b[0m lines(experiments, outcomes, outcomes_to_show\u001b[39m=\u001b[39m\u001b[39m'\u001b[39m\u001b[39mprey\u001b[39m\u001b[39m'\u001b[39m, group_by\u001b[39m=\u001b[39m\u001b[39m'\u001b[39m\u001b[39mmodel\u001b[39m\u001b[39m'\u001b[39m,\n\u001b[0;32m      4\u001b[0m       show_envelope\u001b[39m=\u001b[39m\u001b[39mTrue\u001b[39;00m, density\u001b[39m=\u001b[39mDensity\u001b[39m.\u001b[39mKDE, titles\u001b[39m=\u001b[39m\u001b[39mNone\u001b[39;00m, \n\u001b[0;32m      5\u001b[0m       experiments_to_show\u001b[39m=\u001b[39mexperiments_to_show)\n\u001b[0;32m      6\u001b[0m plt\u001b[39m.\u001b[39mshow()\n",
      "\u001b[1;31mNameError\u001b[0m: name 'experiments' is not defined"
     ]
    }
   ],
   "source": [
    "experiments_to_show = np.arange(0, experiments.shape[0], 1)\n",
    "\n",
    "lines(experiments, outcomes, outcomes_to_show='prey', group_by='model',\n",
    "      show_envelope=True, density=Density.KDE, titles=None, \n",
    "      experiments_to_show=experiments_to_show)\n",
    "plt.show()"
   ]
  }
 ],
 "metadata": {
  "kernelspec": {
   "display_name": "Python 3",
   "language": "python",
   "name": "python3"
  },
  "language_info": {
   "codemirror_mode": {
    "name": "ipython",
    "version": 3
   },
   "file_extension": ".py",
   "mimetype": "text/x-python",
   "name": "python",
   "nbconvert_exporter": "python",
   "pygments_lexer": "ipython3",
   "version": "3.11.3"
  }
 },
 "nbformat": 4,
 "nbformat_minor": 4
}
