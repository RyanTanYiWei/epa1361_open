{
 "cells": [
  {
   "attachments": {},
   "cell_type": "markdown",
   "metadata": {},
   "source": [
    "# Week 3 - Sensitivity analysis\n",
    "\n",
    "This exercise uses the same predator-prey model we used for the multi-model exercise, focusing on the Python version. As with the other exercise, define a model object for the function below, with the uncertainty ranges provided:\n",
    "\n",
    "|Parameter\t|Range or value\t        |\n",
    "|-----------|--------------:|\n",
    "|prey_birth_rate    \t|0.015 – 0.035\t|\n",
    "|predation_rate|0.0005 – 0.003 \t|\n",
    "|predator_efficiency     \t|0.001 – 0.004\t    |\n",
    "|predator_loss_rate\t    |0.04 – 0.08\t    |"
   ]
  },
  {
   "cell_type": "code",
   "execution_count": 117,
   "metadata": {
    "collapsed": false
   },
   "outputs": [],
   "source": [
    "import numpy as np\n",
    "import matplotlib.pyplot as plt\n",
    "\n",
    "from ema_workbench import (Model, RealParameter, TimeSeriesOutcome, perform_experiments, ema_logging)\n",
    "\n",
    "from ema_workbench import Samplers\n",
    "\n",
    "from ema_workbench.analysis import feature_scoring\n",
    "from ema_workbench.analysis.scenario_discovery_util import RuleInductionType\n",
    "from ema_workbench.em_framework.salib_samplers import get_SALib_problem\n",
    "\n",
    "from SALib.analyze import sobol"
   ]
  },
  {
   "cell_type": "code",
   "execution_count": 118,
   "metadata": {
    "collapsed": false
   },
   "outputs": [],
   "source": [
    "# Model\n",
    "\n",
    "def pred_prey(prey_birth_rate=0.025, predation_rate=0.0015, predator_efficiency=0.002,\n",
    "             predator_loss_rate=0.06, initial_prey=50, initial_predators=20, dt=0.25,\n",
    "             final_time=365, reps=1):\n",
    "\n",
    "    #Initial values\n",
    "    predators = np.zeros((reps, int(final_time/dt)+1))\n",
    "    prey = np.zeros((reps, int(final_time/dt)+1))\n",
    "    sim_time = np.zeros((reps, int(final_time/dt)+1))\n",
    "\n",
    "    for r in range(reps):\n",
    "\n",
    "        predators[r,0] = initial_predators\n",
    "        prey[r,0] = initial_prey\n",
    "\n",
    "    #Calculate the time series\n",
    "    for t in range(0, sim_time.shape[1]-1):\n",
    "\n",
    "        dx = (prey_birth_rate*prey[r,t]) - (predation_rate*prey[r,t]*predators[r,t])\n",
    "        dy = (predator_efficiency*predators[r,t]*prey[r,t]) - (predator_loss_rate*predators[r,t])\n",
    "\n",
    "        prey[r,t+1] = max(prey[r,t] + dx*dt, 0)\n",
    "        predators[r,t+1] = max(predators[r,t] + dy*dt, 0)\n",
    "        sim_time[r,t+1] = (t+1)*dt\n",
    "\n",
    "    #Return outcomes\n",
    "    return {'TIME':sim_time,\n",
    "            'predators':predators,\n",
    "            'prey':prey}"
   ]
  },
  {
   "cell_type": "code",
   "execution_count": 119,
   "metadata": {},
   "outputs": [],
   "source": [
    "ema_logging.log_to_stderr(ema_logging.INFO)\n",
    "\n",
    "#We can define common uncertainties and outcomes for each model:\n",
    "uncertainties = [RealParameter('prey_birth_rate', 0.015, 0.035),\n",
    "                 RealParameter('predation_rate', 0.0005, 0.003),\n",
    "                 RealParameter('predator_efficiency', 0.001, 0.004),\n",
    "                 RealParameter('predator_loss_rate', 0.04, 0.08)] \n",
    "\n",
    "outcomes = [TimeSeriesOutcome('TIME', function=np.squeeze),\n",
    "            TimeSeriesOutcome('predators', function=np.squeeze),\n",
    "            TimeSeriesOutcome('prey', function=np.squeeze)]\n",
    "\n",
    "\n",
    "#Define the Python model\n",
    "py_model = Model('Python', function=pred_prey)\n",
    "py_model.uncertainties = uncertainties\n",
    "py_model.outcomes = outcomes\n"
   ]
  },
  {
   "attachments": {},
   "cell_type": "markdown",
   "metadata": {
    "collapsed": false
   },
   "source": [
    "#### 1. Sensitivity analysis\n",
    "Sensitivity analysis often focuses on the final values of an outcome at the end of the simulation. However, we can also look at metrics that give us additional information about the behavior of the model over time. Using [the statsmodel library](https://www.statsmodels.org/stable/index.html) and an appropriate sampling design, fit a linear regression model for each of the following indicators. What can we conclude about the behavior of the model, and about the importance of the different inputs?\n",
    "\n",
    "  * The final values of the _prey_ outcome\n",
    "  * The mean values of the _prey_ outcome over time, within each experiment\n",
    "  * The standard deviations of the _prey_ outcome over time, within each experiment"
   ]
  },
  {
   "cell_type": "code",
   "execution_count": 120,
   "metadata": {},
   "outputs": [
    {
     "name": "stderr",
     "output_type": "stream",
     "text": [
      "[MainProcess/INFO] performing 1000 scenarios * 1 policies * 1 model(s) = 1000 experiments\n",
      "  0%|                                                 | 0/1000 [00:00<?, ?it/s][MainProcess/INFO] performing experiments sequentially\n",
      "100%|█████████████████████████████████████| 1000/1000 [00:05<00:00, 179.72it/s]\n",
      "[MainProcess/INFO] experiments finished\n"
     ]
    }
   ],
   "source": [
    "#Using Latin Hypercube sampling\n",
    "\n",
    "nr_experiments = 1000\n",
    "\n",
    "experiments, outcomes = perform_experiments([py_model],\n",
    "                                  nr_experiments, uncertainty_sampling=Samplers.LHS)"
   ]
  },
  {
   "cell_type": "code",
   "execution_count": 121,
   "metadata": {},
   "outputs": [
    {
     "data": {
      "text/html": [
       "<div>\n",
       "<style scoped>\n",
       "    .dataframe tbody tr th:only-of-type {\n",
       "        vertical-align: middle;\n",
       "    }\n",
       "\n",
       "    .dataframe tbody tr th {\n",
       "        vertical-align: top;\n",
       "    }\n",
       "\n",
       "    .dataframe thead th {\n",
       "        text-align: right;\n",
       "    }\n",
       "</style>\n",
       "<table border=\"1\" class=\"dataframe\">\n",
       "  <thead>\n",
       "    <tr style=\"text-align: right;\">\n",
       "      <th></th>\n",
       "      <th>predation_rate</th>\n",
       "      <th>predator_efficiency</th>\n",
       "      <th>predator_loss_rate</th>\n",
       "      <th>prey_birth_rate</th>\n",
       "      <th>scenario</th>\n",
       "      <th>policy</th>\n",
       "      <th>model</th>\n",
       "    </tr>\n",
       "  </thead>\n",
       "  <tbody>\n",
       "    <tr>\n",
       "      <th>0</th>\n",
       "      <td>0.002219</td>\n",
       "      <td>0.003440</td>\n",
       "      <td>0.058833</td>\n",
       "      <td>0.026419</td>\n",
       "      <td>37850</td>\n",
       "      <td>None</td>\n",
       "      <td>Python</td>\n",
       "    </tr>\n",
       "    <tr>\n",
       "      <th>1</th>\n",
       "      <td>0.001619</td>\n",
       "      <td>0.001794</td>\n",
       "      <td>0.060958</td>\n",
       "      <td>0.025619</td>\n",
       "      <td>37851</td>\n",
       "      <td>None</td>\n",
       "      <td>Python</td>\n",
       "    </tr>\n",
       "    <tr>\n",
       "      <th>2</th>\n",
       "      <td>0.001557</td>\n",
       "      <td>0.002631</td>\n",
       "      <td>0.056056</td>\n",
       "      <td>0.028387</td>\n",
       "      <td>37852</td>\n",
       "      <td>None</td>\n",
       "      <td>Python</td>\n",
       "    </tr>\n",
       "    <tr>\n",
       "      <th>3</th>\n",
       "      <td>0.001542</td>\n",
       "      <td>0.003648</td>\n",
       "      <td>0.041916</td>\n",
       "      <td>0.020916</td>\n",
       "      <td>37853</td>\n",
       "      <td>None</td>\n",
       "      <td>Python</td>\n",
       "    </tr>\n",
       "    <tr>\n",
       "      <th>4</th>\n",
       "      <td>0.000635</td>\n",
       "      <td>0.003751</td>\n",
       "      <td>0.046966</td>\n",
       "      <td>0.029379</td>\n",
       "      <td>37854</td>\n",
       "      <td>None</td>\n",
       "      <td>Python</td>\n",
       "    </tr>\n",
       "  </tbody>\n",
       "</table>\n",
       "</div>"
      ],
      "text/plain": [
       "   predation_rate  predator_efficiency  predator_loss_rate  prey_birth_rate  \\\n",
       "0        0.002219             0.003440            0.058833         0.026419   \n",
       "1        0.001619             0.001794            0.060958         0.025619   \n",
       "2        0.001557             0.002631            0.056056         0.028387   \n",
       "3        0.001542             0.003648            0.041916         0.020916   \n",
       "4        0.000635             0.003751            0.046966         0.029379   \n",
       "\n",
       "  scenario policy   model  \n",
       "0    37850   None  Python  \n",
       "1    37851   None  Python  \n",
       "2    37852   None  Python  \n",
       "3    37853   None  Python  \n",
       "4    37854   None  Python  "
      ]
     },
     "execution_count": 121,
     "metadata": {},
     "output_type": "execute_result"
    }
   ],
   "source": [
    "experiments.head(5)"
   ]
  },
  {
   "cell_type": "code",
   "execution_count": 122,
   "metadata": {},
   "outputs": [
    {
     "name": "stdout",
     "output_type": "stream",
     "text": [
      "(1000, 1461)\n"
     ]
    },
    {
     "data": {
      "text/plain": [
       "array([[50.        , 49.77559266, 49.53657293, ..., 24.29405687,\n",
       "        24.44740698, 24.60168086],\n",
       "       [50.        , 49.91546338, 49.82816493, ..., 25.37470581,\n",
       "        25.25789173, 25.14268802],\n",
       "       [50.        , 49.96564368, 49.92397035, ..., 49.09867477,\n",
       "        48.83199701, 48.55558369],\n",
       "       ...,\n",
       "       [50.        , 49.85739218, 49.70014961, ...,  4.28421923,\n",
       "         4.28161066,  4.27952696],\n",
       "       [50.        , 50.21300526, 50.42202591, ..., 57.35210721,\n",
       "        57.25233731, 57.13322806],\n",
       "       [50.        , 50.15974552, 50.31979136, ..., 68.2168218 ,\n",
       "        68.30419734, 68.3892276 ]])"
      ]
     },
     "execution_count": 122,
     "metadata": {},
     "output_type": "execute_result"
    }
   ],
   "source": [
    "# 1000 experiments, 1461 steps\n",
    "print(outcomes['prey'].shape)\n",
    "outcomes['prey']"
   ]
  },
  {
   "cell_type": "code",
   "execution_count": 132,
   "metadata": {},
   "outputs": [],
   "source": [
    "#selecting final values (last value of every experiment)\n",
    "prey_final_linear = outcomes['prey'][:,-1]\n",
    "prey_mean_linear = np.mean([outcomes['prey']], axis= 2)\n",
    "prey_std_linear = np.std([outcomes['prey']], axis= 2)"
   ]
  },
  {
   "cell_type": "code",
   "execution_count": 133,
   "metadata": {},
   "outputs": [
    {
     "name": "stdout",
     "output_type": "stream",
     "text": [
      "(1000,) (1, 1000) (1, 1000)\n"
     ]
    }
   ],
   "source": [
    "print(prey_final_linear.shape, prey_mean_linear.shape, prey_std_linear.shape)"
   ]
  },
  {
   "cell_type": "code",
   "execution_count": 125,
   "metadata": {},
   "outputs": [
    {
     "name": "stdout",
     "output_type": "stream",
     "text": [
      "                            OLS Regression Results                            \n",
      "==============================================================================\n",
      "Dep. Variable:                      y   R-squared:                       0.404\n",
      "Model:                            OLS   Adj. R-squared:                  0.401\n",
      "Method:                 Least Squares   F-statistic:                     134.6\n",
      "Date:                Sun, 21 May 2023   Prob (F-statistic):          5.33e-109\n",
      "Time:                        23:10:08   Log-Likelihood:                -4190.3\n",
      "No. Observations:                1000   AIC:                             8393.\n",
      "Df Residuals:                     994   BIC:                             8422.\n",
      "Df Model:                           5                                         \n",
      "Covariance Type:            nonrobust                                         \n",
      "=======================================================================================\n",
      "                          coef    std err          t      P>|t|      [0.025      0.975]\n",
      "---------------------------------------------------------------------------------------\n",
      "const                  24.9122     67.628      0.368      0.713    -107.797     157.622\n",
      "predation_rate       -211.3457    702.373     -0.301      0.764   -1589.649    1166.958\n",
      "predator_efficiency -1.399e+04    585.726    -23.887      0.000   -1.51e+04   -1.28e+04\n",
      "predator_loss_rate    449.6860     43.974     10.226      0.000     363.393     535.979\n",
      "prey_birth_rate        24.3583     88.006      0.277      0.782    -148.341     197.058\n",
      "scenario                0.0003      0.002      0.151      0.880      -0.003       0.004\n",
      "==============================================================================\n",
      "Omnibus:                       86.183   Durbin-Watson:                   2.031\n",
      "Prob(Omnibus):                  0.000   Jarque-Bera (JB):              108.163\n",
      "Skew:                           0.804   Prob(JB):                     3.26e-24\n",
      "Kurtosis:                       2.889   Cond. No.                     5.31e+07\n",
      "==============================================================================\n",
      "\n",
      "Notes:\n",
      "[1] Standard Errors assume that the covariance matrix of the errors is correctly specified.\n",
      "[2] The condition number is large, 5.31e+07. This might indicate that there are\n",
      "strong multicollinearity or other numerical problems.\n"
     ]
    }
   ],
   "source": [
    "import pandas as pd\n",
    "import statsmodels.api as sm\n",
    "\n",
    "# Y variable is final outcome of prey\n",
    "Y = prey_final_linear\n",
    "# X variables is experiment uncertainties\n",
    "X = pd.DataFrame(experiments).drop(['policy','model'], inplace = False, axis=1)\n",
    "X = sm.add_constant(X)\n",
    "\n",
    "est = sm.OLS(Y, X.astype(float)).fit()\n",
    "print(est.summary())"
   ]
  },
  {
   "attachments": {},
   "cell_type": "markdown",
   "metadata": {
    "collapsed": false
   },
   "source": [
    "#### 2. SOBOL\n",
    "Use the Sobol sampling functionality included in the Workbench to perform experiments with a sample size of N=50, then analyze the results with SALib for the same three indicators. This requires specifying the keyword argument `'uncertainty_sampling'` of perform_experiments. Note that when using Sobol sampling, the meaning of the keyword argument `scenarios` changes a bit. In order to properly estimate Sobol scores as well as interaction effects, you require N * (2D+2) scenarios, where D is the number of uncertain parameters, and N is the value for scenarios passed to `perform_experiments`. Repeat the analysis for larger sample sizes, with N=250 and N=1000. How can we interpret the first-order and total indices? Are these sample sizes sufficient for a stable estimation of the indices? You'll need to use the [get_SALib_problem](https://emaworkbench.readthedocs.io/en/latest/ema_documentation/em_framework/salib_samplers.html) function to convert your Workbench experiments to a problem definition that you can pass to the SALib analysis function.\n",
    "\n",
    "*hint*: sobol is a deterministic sequence of quasi random numbers. Thus, you can run with N=1000 and simply use slicing to get the results for N=50 and N=250."
   ]
  },
  {
   "cell_type": "code",
   "execution_count": 126,
   "metadata": {
    "collapsed": false
   },
   "outputs": [
    {
     "data": {
      "text/plain": [
       "{'num_vars': 4,\n",
       " 'names': ['predation_rate',\n",
       "  'predator_efficiency',\n",
       "  'predator_loss_rate',\n",
       "  'prey_birth_rate'],\n",
       " 'bounds': [(0.0005, 0.003), (0.001, 0.004), (0.04, 0.08), (0.015, 0.035)]}"
      ]
     },
     "execution_count": 126,
     "metadata": {},
     "output_type": "execute_result"
    }
   ],
   "source": [
    "problem = get_SALib_problem(uncertainties)\n",
    "problem"
   ]
  },
  {
   "cell_type": "code",
   "execution_count": 173,
   "metadata": {},
   "outputs": [
    {
     "name": "stderr",
     "output_type": "stream",
     "text": [
      "c:\\Users\\ryant\\miniconda3\\envs\\ema\\Lib\\site-packages\\SALib\\sample\\sobol.py:132: UserWarning: The balance properties of Sobol' points require n to be a power of 2.\n",
      "  base_sequence = qrng.random(N)\n",
      "[MainProcess/INFO] performing 10000 scenarios * 1 policies * 1 model(s) = 10000 experiments\n",
      "  0%|                                                | 0/10000 [00:00<?, ?it/s][MainProcess/INFO] performing experiments sequentially\n",
      "100%|███████████████████████████████████| 10000/10000 [00:47<00:00, 211.58it/s]\n",
      "[MainProcess/INFO] experiments finished\n"
     ]
    }
   ],
   "source": [
    "nr_experiments = 1000\n",
    "exp_sobol, out_sobol = perform_experiments([py_model],\n",
    "                                  nr_experiments, uncertainty_sampling=Samplers.SOBOL)\n",
    "\n",
    "#Output Values Sobol\n",
    "prey_final_sobol = out_sobol['prey'][:,-1]\n",
    "prey_mean_sobol = np.squeeze(np.mean([out_sobol['prey']], axis= 2))\n",
    "prey_std_sobol = np.squeeze(np.std([out_sobol['prey']], axis= 2))"
   ]
  },
  {
   "cell_type": "code",
   "execution_count": 174,
   "metadata": {},
   "outputs": [
    {
     "name": "stdout",
     "output_type": "stream",
     "text": [
      "                           ST   ST_conf\n",
      "predation_rate       0.004822  0.001006\n",
      "predator_efficiency  0.812871  0.061092\n",
      "predator_loss_rate   0.215472  0.023987\n",
      "prey_birth_rate      0.011519  0.001279\n",
      "                           S1   S1_conf\n",
      "predation_rate       0.002991  0.005887\n",
      "predator_efficiency  0.781334  0.081934\n",
      "predator_loss_rate   0.173858  0.036934\n",
      "prey_birth_rate     -0.004850  0.009130\n",
      "                                                 S2   S2_conf\n",
      "(predation_rate, predator_efficiency)     -0.000590  0.013942\n",
      "(predation_rate, predator_loss_rate)       0.003481  0.009064\n",
      "(predation_rate, prey_birth_rate)          0.003615  0.008888\n",
      "(predator_efficiency, predator_loss_rate)  0.043213  0.140599\n",
      "(predator_efficiency, prey_birth_rate)     0.004166  0.123685\n",
      "(predator_loss_rate, prey_birth_rate)      0.014241  0.048515\n"
     ]
    }
   ],
   "source": [
    "#prey_final_sobol.shape\n",
    "#prey_mean_sobol.shape\n",
    "#prey_std_sobol.shape\n",
    "Si = sobol.analyze(problem, prey_mean_sobol, print_to_console=True)"
   ]
  },
  {
   "cell_type": "code",
   "execution_count": 175,
   "metadata": {},
   "outputs": [
    {
     "data": {
      "text/html": [
       "<div>\n",
       "<style scoped>\n",
       "    .dataframe tbody tr th:only-of-type {\n",
       "        vertical-align: middle;\n",
       "    }\n",
       "\n",
       "    .dataframe tbody tr th {\n",
       "        vertical-align: top;\n",
       "    }\n",
       "\n",
       "    .dataframe thead th {\n",
       "        text-align: right;\n",
       "    }\n",
       "</style>\n",
       "<table border=\"1\" class=\"dataframe\">\n",
       "  <thead>\n",
       "    <tr style=\"text-align: right;\">\n",
       "      <th></th>\n",
       "      <th>ST</th>\n",
       "      <th>ST_conf</th>\n",
       "      <th>S1</th>\n",
       "      <th>S1_conf</th>\n",
       "    </tr>\n",
       "  </thead>\n",
       "  <tbody>\n",
       "    <tr>\n",
       "      <th>predation_rate</th>\n",
       "      <td>0.004822</td>\n",
       "      <td>0.001006</td>\n",
       "      <td>0.002991</td>\n",
       "      <td>0.005887</td>\n",
       "    </tr>\n",
       "    <tr>\n",
       "      <th>predator_efficiency</th>\n",
       "      <td>0.812871</td>\n",
       "      <td>0.061092</td>\n",
       "      <td>0.781334</td>\n",
       "      <td>0.081934</td>\n",
       "    </tr>\n",
       "    <tr>\n",
       "      <th>predator_loss_rate</th>\n",
       "      <td>0.215472</td>\n",
       "      <td>0.023987</td>\n",
       "      <td>0.173858</td>\n",
       "      <td>0.036934</td>\n",
       "    </tr>\n",
       "    <tr>\n",
       "      <th>prey_birth_rate</th>\n",
       "      <td>0.011519</td>\n",
       "      <td>0.001279</td>\n",
       "      <td>-0.004850</td>\n",
       "      <td>0.009130</td>\n",
       "    </tr>\n",
       "  </tbody>\n",
       "</table>\n",
       "</div>"
      ],
      "text/plain": [
       "                           ST   ST_conf        S1   S1_conf\n",
       "predation_rate       0.004822  0.001006  0.002991  0.005887\n",
       "predator_efficiency  0.812871  0.061092  0.781334  0.081934\n",
       "predator_loss_rate   0.215472  0.023987  0.173858  0.036934\n",
       "prey_birth_rate      0.011519  0.001279 -0.004850  0.009130"
      ]
     },
     "execution_count": 175,
     "metadata": {},
     "output_type": "execute_result"
    }
   ],
   "source": [
    "Si_filter_s1_st = {k:Si[k] for k in ['ST','ST_conf','S1','S1_conf']}\n",
    "Si_df = pd.DataFrame(Si_filter_s1_st, index=problem['names'])\n",
    "Si_df"
   ]
  },
  {
   "attachments": {},
   "cell_type": "markdown",
   "metadata": {},
   "source": [
    "##### Sobol Indices\n",
    "- sobol first order indices (S1): influence of each uncertainty on variances\n",
    "- sobol total indices: influences of each uncertainty interaction (n-orders) on variances"
   ]
  },
  {
   "cell_type": "code",
   "execution_count": 176,
   "metadata": {},
   "outputs": [
    {
     "data": {
      "image/png": "[encoded data removed]",
      "text/plain": [
       "<Figure size 800x600 with 1 Axes>"
      ]
     },
     "metadata": {},
     "output_type": "display_data"
    }
   ],
   "source": [
    "import seaborn as sns\n",
    "\n",
    "sns.set_style('white')\n",
    "fig, ax = plt.subplots(1)\n",
    "\n",
    "indices = Si_df[['S1','ST']]\n",
    "err = Si_df[['S1_conf','ST_conf']]\n",
    "\n",
    "indices.plot.bar(yerr=err.values.T,ax=ax)\n",
    "fig.set_size_inches(8,6)\n",
    "fig.subplots_adjust(bottom=0.3)\n",
    "plt.show()"
   ]
  },
  {
   "attachments": {},
   "cell_type": "markdown",
   "metadata": {},
   "source": [
    "##### Sobol Convergence\n",
    "- Find out how many samples are necessary for convergence"
   ]
  },
  {
   "cell_type": "code",
   "execution_count": 177,
   "metadata": {},
   "outputs": [
    {
     "name": "stderr",
     "output_type": "stream",
     "text": [
      "C:\\Users\\ryant\\AppData\\Local\\Temp\\ipykernel_15456\\1281003913.py:8: DeprecationWarning: In a future version, `df.iloc[:, i] = newvals` will attempt to set the values inplace instead of always setting a new array. To retain the old behavior, use either `df[df.columns[i]] = newvals` or, if columns are non-unique, `df.isetitem(i, newvals)`\n",
      "  s_data.loc[:,j] = scores['ST']\n"
     ]
    }
   ],
   "source": [
    "Y = prey_mean_sobol\n",
    "\n",
    "n_exp = 1000\n",
    "s_data = pd.DataFrame(index=problem['names'],\n",
    "                      columns=np.arange(20,n_exp,50)*(2*problem['num_vars']+2))\n",
    "for j in s_data.columns:\n",
    "    scores = sobol.analyze(problem, Y[0:j], calc_second_order=True, print_to_console=False)\n",
    "    s_data.loc[:,j] = scores['ST']"
   ]
  },
  {
   "cell_type": "code",
   "execution_count": 178,
   "metadata": {},
   "outputs": [
    {
     "data": {
      "image/png": "[encoded data removed]",
      "text/plain": [
       "<Figure size 640x480 with 1 Axes>"
      ]
     },
     "metadata": {},
     "output_type": "display_data"
    }
   ],
   "source": [
    "fig, ax = plt.subplots(1)\n",
    "\n",
    "s_data.T.plot(ax=ax)\n",
    "ax.set_xlabel('Samples')\n",
    "ax.set_ylabel('Total index (ST)')\n",
    "plt.show()"
   ]
  },
  {
   "attachments": {},
   "cell_type": "markdown",
   "metadata": {
    "collapsed": false
   },
   "source": [
    "#### 3. Extra trees\n",
    "Use the [Extra-Trees analysis](https://emaworkbench.readthedocs.io/en/latest/ema_documentation/analysis/feature_scoring.html) included in the Workbench to approximate the Sobol total indices, with a suitable sampling design. As a starting point, use an ensemble of 100 trees and a max_features parameter of 0.6, and set the analysis to regression mode. Are the estimated importances stable relative to the sample size and the analysis parameters? How do the results compare to the Sobol indices? For more details on this analysis see [Jaxa-Rozen & Kwakkel (2018)](https://www.sciencedirect.com/science/article/pii/S1364815217311581)"
   ]
  },
  {
   "cell_type": "code",
   "execution_count": null,
   "metadata": {
    "collapsed": false
   },
   "outputs": [],
   "source": [
    "from ema_workbench.analysis import feature_scoring\n",
    "\n",
    "#Sobol Sampling\n",
    "nr_experiments = 1000\n",
    "exp_sobol, out_sobol = perform_experiments([py_model],\n",
    "                                  nr_experiments, uncertainty_sampling=Samplers.SOBOL)\n",
    "#Output Values Sobol\n",
    "prey_final_sobol = out_sobol['prey'][:,-1]\n",
    "prey_mean_sobol = np.squeeze(np.mean([out_sobol['prey']], axis= 2))\n",
    "prey_std_sobol = np.squeeze(np.std([out_sobol['prey']], axis= 2))\n",
    "\n"
   ]
  },
  {
   "attachments": {},
   "cell_type": "markdown",
   "metadata": {},
   "source": [
    "##### Feature Scoring\n",
    "- Feature scoring is a family of techniques often used in machine learning to identify the most relevant features to include in a model. This is similar to one of the use cases for global sensitivity analysis, namely factor prioritisation. "
   ]
  },
  {
   "cell_type": "code",
   "execution_count": 181,
   "metadata": {},
   "outputs": [
    {
     "name": "stderr",
     "output_type": "stream",
     "text": [
      "[MainProcess/INFO] policy dropped from analysis because only a single category\n",
      "[MainProcess/INFO] model dropped from analysis because only a single category\n"
     ]
    },
    {
     "data": {
      "text/plain": [
       "(                            1\n",
       " 0                            \n",
       " predator_efficiency  0.522027\n",
       " predator_loss_rate   0.221235\n",
       " prey_birth_rate      0.205254\n",
       " predation_rate       0.051485,\n",
       " ExtraTreesRegressor(bootstrap=True, max_features=0.6, min_samples_leaf=3,\n",
       "                     min_weight_fraction_leaf=0, oob_score=True))"
      ]
     },
     "execution_count": 181,
     "metadata": {},
     "output_type": "execute_result"
    }
   ],
   "source": [
    "scores = feature_scoring.get_ex_feature_scores(exp_sobol, prey_final_sobol, max_features=0.6, mode=RuleInductionType.REGRESSION)\n",
    "scores"
   ]
  },
  {
   "cell_type": "code",
   "execution_count": 183,
   "metadata": {},
   "outputs": [
    {
     "name": "stderr",
     "output_type": "stream",
     "text": [
      "[MainProcess/INFO] policy dropped from analysis because only a single category\n",
      "[MainProcess/INFO] model dropped from analysis because only a single category\n",
      "[MainProcess/INFO] policy dropped from analysis because only a single category\n",
      "[MainProcess/INFO] model dropped from analysis because only a single category\n",
      "[MainProcess/INFO] policy dropped from analysis because only a single category\n",
      "[MainProcess/INFO] model dropped from analysis because only a single category\n",
      "[MainProcess/INFO] policy dropped from analysis because only a single category\n",
      "[MainProcess/INFO] model dropped from analysis because only a single category\n",
      "[MainProcess/INFO] policy dropped from analysis because only a single category\n",
      "[MainProcess/INFO] model dropped from analysis because only a single category\n",
      "[MainProcess/INFO] policy dropped from analysis because only a single category\n",
      "[MainProcess/INFO] model dropped from analysis because only a single category\n",
      "[MainProcess/INFO] policy dropped from analysis because only a single category\n",
      "[MainProcess/INFO] model dropped from analysis because only a single category\n",
      "[MainProcess/INFO] policy dropped from analysis because only a single category\n",
      "[MainProcess/INFO] model dropped from analysis because only a single category\n",
      "[MainProcess/INFO] policy dropped from analysis because only a single category\n",
      "[MainProcess/INFO] model dropped from analysis because only a single category\n",
      "[MainProcess/INFO] policy dropped from analysis because only a single category\n",
      "[MainProcess/INFO] model dropped from analysis because only a single category\n",
      "[MainProcess/INFO] policy dropped from analysis because only a single category\n",
      "[MainProcess/INFO] model dropped from analysis because only a single category\n",
      "[MainProcess/INFO] policy dropped from analysis because only a single category\n",
      "[MainProcess/INFO] model dropped from analysis because only a single category\n",
      "[MainProcess/INFO] policy dropped from analysis because only a single category\n",
      "[MainProcess/INFO] model dropped from analysis because only a single category\n",
      "[MainProcess/INFO] policy dropped from analysis because only a single category\n",
      "[MainProcess/INFO] model dropped from analysis because only a single category\n",
      "[MainProcess/INFO] policy dropped from analysis because only a single category\n",
      "[MainProcess/INFO] model dropped from analysis because only a single category\n",
      "[MainProcess/INFO] policy dropped from analysis because only a single category\n",
      "[MainProcess/INFO] model dropped from analysis because only a single category\n",
      "[MainProcess/INFO] policy dropped from analysis because only a single category\n",
      "[MainProcess/INFO] model dropped from analysis because only a single category\n",
      "[MainProcess/INFO] policy dropped from analysis because only a single category\n",
      "[MainProcess/INFO] model dropped from analysis because only a single category\n",
      "[MainProcess/INFO] policy dropped from analysis because only a single category\n",
      "[MainProcess/INFO] model dropped from analysis because only a single category\n",
      "[MainProcess/INFO] policy dropped from analysis because only a single category\n",
      "[MainProcess/INFO] model dropped from analysis because only a single category\n",
      "[MainProcess/INFO] policy dropped from analysis because only a single category\n",
      "[MainProcess/INFO] model dropped from analysis because only a single category\n",
      "[MainProcess/INFO] policy dropped from analysis because only a single category\n",
      "[MainProcess/INFO] model dropped from analysis because only a single category\n",
      "[MainProcess/INFO] policy dropped from analysis because only a single category\n",
      "[MainProcess/INFO] model dropped from analysis because only a single category\n",
      "[MainProcess/INFO] policy dropped from analysis because only a single category\n",
      "[MainProcess/INFO] model dropped from analysis because only a single category\n",
      "[MainProcess/INFO] policy dropped from analysis because only a single category\n",
      "[MainProcess/INFO] model dropped from analysis because only a single category\n",
      "[MainProcess/INFO] policy dropped from analysis because only a single category\n",
      "[MainProcess/INFO] model dropped from analysis because only a single category\n",
      "[MainProcess/INFO] policy dropped from analysis because only a single category\n",
      "[MainProcess/INFO] model dropped from analysis because only a single category\n",
      "[MainProcess/INFO] policy dropped from analysis because only a single category\n",
      "[MainProcess/INFO] model dropped from analysis because only a single category\n",
      "[MainProcess/INFO] policy dropped from analysis because only a single category\n",
      "[MainProcess/INFO] model dropped from analysis because only a single category\n",
      "[MainProcess/INFO] policy dropped from analysis because only a single category\n",
      "[MainProcess/INFO] model dropped from analysis because only a single category\n",
      "[MainProcess/INFO] policy dropped from analysis because only a single category\n",
      "[MainProcess/INFO] model dropped from analysis because only a single category\n",
      "[MainProcess/INFO] policy dropped from analysis because only a single category\n",
      "[MainProcess/INFO] model dropped from analysis because only a single category\n",
      "[MainProcess/INFO] policy dropped from analysis because only a single category\n",
      "[MainProcess/INFO] model dropped from analysis because only a single category\n",
      "[MainProcess/INFO] policy dropped from analysis because only a single category\n",
      "[MainProcess/INFO] model dropped from analysis because only a single category\n",
      "[MainProcess/INFO] policy dropped from analysis because only a single category\n",
      "[MainProcess/INFO] model dropped from analysis because only a single category\n",
      "[MainProcess/INFO] policy dropped from analysis because only a single category\n",
      "[MainProcess/INFO] model dropped from analysis because only a single category\n",
      "[MainProcess/INFO] policy dropped from analysis because only a single category\n",
      "[MainProcess/INFO] model dropped from analysis because only a single category\n",
      "[MainProcess/INFO] policy dropped from analysis because only a single category\n",
      "[MainProcess/INFO] model dropped from analysis because only a single category\n",
      "[MainProcess/INFO] policy dropped from analysis because only a single category\n",
      "[MainProcess/INFO] model dropped from analysis because only a single category\n",
      "[MainProcess/INFO] policy dropped from analysis because only a single category\n",
      "[MainProcess/INFO] model dropped from analysis because only a single category\n",
      "[MainProcess/INFO] policy dropped from analysis because only a single category\n",
      "[MainProcess/INFO] model dropped from analysis because only a single category\n",
      "[MainProcess/INFO] policy dropped from analysis because only a single category\n",
      "[MainProcess/INFO] model dropped from analysis because only a single category\n",
      "[MainProcess/INFO] policy dropped from analysis because only a single category\n",
      "[MainProcess/INFO] model dropped from analysis because only a single category\n",
      "[MainProcess/INFO] policy dropped from analysis because only a single category\n",
      "[MainProcess/INFO] model dropped from analysis because only a single category\n",
      "[MainProcess/INFO] policy dropped from analysis because only a single category\n",
      "[MainProcess/INFO] model dropped from analysis because only a single category\n",
      "[MainProcess/INFO] policy dropped from analysis because only a single category\n",
      "[MainProcess/INFO] model dropped from analysis because only a single category\n",
      "[MainProcess/INFO] policy dropped from analysis because only a single category\n",
      "[MainProcess/INFO] model dropped from analysis because only a single category\n",
      "[MainProcess/INFO] policy dropped from analysis because only a single category\n",
      "[MainProcess/INFO] model dropped from analysis because only a single category\n",
      "[MainProcess/INFO] policy dropped from analysis because only a single category\n",
      "[MainProcess/INFO] model dropped from analysis because only a single category\n",
      "[MainProcess/INFO] policy dropped from analysis because only a single category\n",
      "[MainProcess/INFO] model dropped from analysis because only a single category\n",
      "[MainProcess/INFO] policy dropped from analysis because only a single category\n",
      "[MainProcess/INFO] model dropped from analysis because only a single category\n",
      "[MainProcess/INFO] policy dropped from analysis because only a single category\n",
      "[MainProcess/INFO] model dropped from analysis because only a single category\n",
      "[MainProcess/INFO] policy dropped from analysis because only a single category\n",
      "[MainProcess/INFO] model dropped from analysis because only a single category\n",
      "[MainProcess/INFO] policy dropped from analysis because only a single category\n",
      "[MainProcess/INFO] model dropped from analysis because only a single category\n",
      "[MainProcess/INFO] policy dropped from analysis because only a single category\n",
      "[MainProcess/INFO] model dropped from analysis because only a single category\n",
      "[MainProcess/INFO] policy dropped from analysis because only a single category\n",
      "[MainProcess/INFO] model dropped from analysis because only a single category\n",
      "[MainProcess/INFO] policy dropped from analysis because only a single category\n",
      "[MainProcess/INFO] model dropped from analysis because only a single category\n",
      "[MainProcess/INFO] policy dropped from analysis because only a single category\n",
      "[MainProcess/INFO] model dropped from analysis because only a single category\n",
      "[MainProcess/INFO] policy dropped from analysis because only a single category\n",
      "[MainProcess/INFO] model dropped from analysis because only a single category\n",
      "[MainProcess/INFO] policy dropped from analysis because only a single category\n",
      "[MainProcess/INFO] model dropped from analysis because only a single category\n",
      "[MainProcess/INFO] policy dropped from analysis because only a single category\n",
      "[MainProcess/INFO] model dropped from analysis because only a single category\n",
      "[MainProcess/INFO] policy dropped from analysis because only a single category\n",
      "[MainProcess/INFO] model dropped from analysis because only a single category\n",
      "[MainProcess/INFO] policy dropped from analysis because only a single category\n",
      "[MainProcess/INFO] model dropped from analysis because only a single category\n",
      "[MainProcess/INFO] policy dropped from analysis because only a single category\n",
      "[MainProcess/INFO] model dropped from analysis because only a single category\n",
      "[MainProcess/INFO] policy dropped from analysis because only a single category\n",
      "[MainProcess/INFO] model dropped from analysis because only a single category\n",
      "[MainProcess/INFO] policy dropped from analysis because only a single category\n",
      "[MainProcess/INFO] model dropped from analysis because only a single category\n",
      "[MainProcess/INFO] policy dropped from analysis because only a single category\n",
      "[MainProcess/INFO] model dropped from analysis because only a single category\n",
      "[MainProcess/INFO] policy dropped from analysis because only a single category\n",
      "[MainProcess/INFO] model dropped from analysis because only a single category\n",
      "[MainProcess/INFO] policy dropped from analysis because only a single category\n",
      "[MainProcess/INFO] model dropped from analysis because only a single category\n",
      "[MainProcess/INFO] policy dropped from analysis because only a single category\n",
      "[MainProcess/INFO] model dropped from analysis because only a single category\n",
      "[MainProcess/INFO] policy dropped from analysis because only a single category\n",
      "[MainProcess/INFO] model dropped from analysis because only a single category\n",
      "[MainProcess/INFO] policy dropped from analysis because only a single category\n",
      "[MainProcess/INFO] model dropped from analysis because only a single category\n",
      "[MainProcess/INFO] policy dropped from analysis because only a single category\n",
      "[MainProcess/INFO] model dropped from analysis because only a single category\n",
      "[MainProcess/INFO] policy dropped from analysis because only a single category\n",
      "[MainProcess/INFO] model dropped from analysis because only a single category\n",
      "[MainProcess/INFO] policy dropped from analysis because only a single category\n",
      "[MainProcess/INFO] model dropped from analysis because only a single category\n",
      "[MainProcess/INFO] policy dropped from analysis because only a single category\n",
      "[MainProcess/INFO] model dropped from analysis because only a single category\n",
      "[MainProcess/INFO] policy dropped from analysis because only a single category\n",
      "[MainProcess/INFO] model dropped from analysis because only a single category\n",
      "[MainProcess/INFO] policy dropped from analysis because only a single category\n",
      "[MainProcess/INFO] model dropped from analysis because only a single category\n",
      "[MainProcess/INFO] policy dropped from analysis because only a single category\n",
      "[MainProcess/INFO] model dropped from analysis because only a single category\n",
      "[MainProcess/INFO] policy dropped from analysis because only a single category\n",
      "[MainProcess/INFO] model dropped from analysis because only a single category\n",
      "[MainProcess/INFO] policy dropped from analysis because only a single category\n",
      "[MainProcess/INFO] model dropped from analysis because only a single category\n",
      "[MainProcess/INFO] policy dropped from analysis because only a single category\n",
      "[MainProcess/INFO] model dropped from analysis because only a single category\n",
      "[MainProcess/INFO] policy dropped from analysis because only a single category\n",
      "[MainProcess/INFO] model dropped from analysis because only a single category\n",
      "[MainProcess/INFO] policy dropped from analysis because only a single category\n",
      "[MainProcess/INFO] model dropped from analysis because only a single category\n",
      "[MainProcess/INFO] policy dropped from analysis because only a single category\n",
      "[MainProcess/INFO] model dropped from analysis because only a single category\n",
      "[MainProcess/INFO] policy dropped from analysis because only a single category\n",
      "[MainProcess/INFO] model dropped from analysis because only a single category\n",
      "[MainProcess/INFO] policy dropped from analysis because only a single category\n",
      "[MainProcess/INFO] model dropped from analysis because only a single category\n",
      "[MainProcess/INFO] policy dropped from analysis because only a single category\n",
      "[MainProcess/INFO] model dropped from analysis because only a single category\n",
      "[MainProcess/INFO] policy dropped from analysis because only a single category\n",
      "[MainProcess/INFO] model dropped from analysis because only a single category\n",
      "[MainProcess/INFO] policy dropped from analysis because only a single category\n",
      "[MainProcess/INFO] model dropped from analysis because only a single category\n",
      "[MainProcess/INFO] policy dropped from analysis because only a single category\n",
      "[MainProcess/INFO] model dropped from analysis because only a single category\n",
      "[MainProcess/INFO] policy dropped from analysis because only a single category\n",
      "[MainProcess/INFO] model dropped from analysis because only a single category\n",
      "[MainProcess/INFO] policy dropped from analysis because only a single category\n",
      "[MainProcess/INFO] model dropped from analysis because only a single category\n",
      "[MainProcess/INFO] policy dropped from analysis because only a single category\n",
      "[MainProcess/INFO] model dropped from analysis because only a single category\n",
      "[MainProcess/INFO] policy dropped from analysis because only a single category\n",
      "[MainProcess/INFO] model dropped from analysis because only a single category\n",
      "[MainProcess/INFO] policy dropped from analysis because only a single category\n",
      "[MainProcess/INFO] model dropped from analysis because only a single category\n",
      "[MainProcess/INFO] policy dropped from analysis because only a single category\n",
      "[MainProcess/INFO] model dropped from analysis because only a single category\n",
      "[MainProcess/INFO] policy dropped from analysis because only a single category\n",
      "[MainProcess/INFO] model dropped from analysis because only a single category\n",
      "[MainProcess/INFO] policy dropped from analysis because only a single category\n",
      "[MainProcess/INFO] model dropped from analysis because only a single category\n"
     ]
    }
   ],
   "source": [
    "combined_scores = []\n",
    "for j in range(100, exp_sobol.shape[0], 100):\n",
    "    scores = feature_scoring.get_ex_feature_scores(exp_sobol.iloc[0:j, :],\n",
    "                                                   prey_mean_sobol[0:j],\n",
    "                                                   max_features=0.6,\n",
    "                                                   mode=RuleInductionType.REGRESSION)[0]\n",
    "    scores.columns = [j]\n",
    "    combined_scores.append(scores)"
   ]
  },
  {
   "cell_type": "code",
   "execution_count": 184,
   "metadata": {},
   "outputs": [
    {
     "data": {
      "text/html": [
       "<div>\n",
       "<style scoped>\n",
       "    .dataframe tbody tr th:only-of-type {\n",
       "        vertical-align: middle;\n",
       "    }\n",
       "\n",
       "    .dataframe tbody tr th {\n",
       "        vertical-align: top;\n",
       "    }\n",
       "\n",
       "    .dataframe thead th {\n",
       "        text-align: right;\n",
       "    }\n",
       "</style>\n",
       "<table border=\"1\" class=\"dataframe\">\n",
       "  <thead>\n",
       "    <tr style=\"text-align: right;\">\n",
       "      <th></th>\n",
       "      <th>100</th>\n",
       "      <th>200</th>\n",
       "      <th>300</th>\n",
       "      <th>400</th>\n",
       "      <th>500</th>\n",
       "      <th>600</th>\n",
       "      <th>700</th>\n",
       "      <th>800</th>\n",
       "      <th>900</th>\n",
       "      <th>1000</th>\n",
       "      <th>...</th>\n",
       "      <th>9000</th>\n",
       "      <th>9100</th>\n",
       "      <th>9200</th>\n",
       "      <th>9300</th>\n",
       "      <th>9400</th>\n",
       "      <th>9500</th>\n",
       "      <th>9600</th>\n",
       "      <th>9700</th>\n",
       "      <th>9800</th>\n",
       "      <th>9900</th>\n",
       "    </tr>\n",
       "    <tr>\n",
       "      <th>0</th>\n",
       "      <th></th>\n",
       "      <th></th>\n",
       "      <th></th>\n",
       "      <th></th>\n",
       "      <th></th>\n",
       "      <th></th>\n",
       "      <th></th>\n",
       "      <th></th>\n",
       "      <th></th>\n",
       "      <th></th>\n",
       "      <th></th>\n",
       "      <th></th>\n",
       "      <th></th>\n",
       "      <th></th>\n",
       "      <th></th>\n",
       "      <th></th>\n",
       "      <th></th>\n",
       "      <th></th>\n",
       "      <th></th>\n",
       "      <th></th>\n",
       "      <th></th>\n",
       "    </tr>\n",
       "  </thead>\n",
       "  <tbody>\n",
       "    <tr>\n",
       "      <th>predation_rate</th>\n",
       "      <td>0.049438</td>\n",
       "      <td>0.039167</td>\n",
       "      <td>0.039330</td>\n",
       "      <td>0.034043</td>\n",
       "      <td>0.035316</td>\n",
       "      <td>0.039211</td>\n",
       "      <td>0.034040</td>\n",
       "      <td>0.029027</td>\n",
       "      <td>0.026138</td>\n",
       "      <td>0.025440</td>\n",
       "      <td>...</td>\n",
       "      <td>0.006897</td>\n",
       "      <td>0.007243</td>\n",
       "      <td>0.007394</td>\n",
       "      <td>0.007464</td>\n",
       "      <td>0.007135</td>\n",
       "      <td>0.006966</td>\n",
       "      <td>0.007503</td>\n",
       "      <td>0.007497</td>\n",
       "      <td>0.006931</td>\n",
       "      <td>0.007020</td>\n",
       "    </tr>\n",
       "    <tr>\n",
       "      <th>predator_efficiency</th>\n",
       "      <td>0.594151</td>\n",
       "      <td>0.714140</td>\n",
       "      <td>0.690574</td>\n",
       "      <td>0.716902</td>\n",
       "      <td>0.724636</td>\n",
       "      <td>0.725832</td>\n",
       "      <td>0.732810</td>\n",
       "      <td>0.745018</td>\n",
       "      <td>0.748518</td>\n",
       "      <td>0.747788</td>\n",
       "      <td>...</td>\n",
       "      <td>0.786606</td>\n",
       "      <td>0.786334</td>\n",
       "      <td>0.785315</td>\n",
       "      <td>0.786698</td>\n",
       "      <td>0.786030</td>\n",
       "      <td>0.788019</td>\n",
       "      <td>0.784307</td>\n",
       "      <td>0.787163</td>\n",
       "      <td>0.788478</td>\n",
       "      <td>0.786084</td>\n",
       "    </tr>\n",
       "    <tr>\n",
       "      <th>predator_loss_rate</th>\n",
       "      <td>0.314152</td>\n",
       "      <td>0.196968</td>\n",
       "      <td>0.219507</td>\n",
       "      <td>0.207789</td>\n",
       "      <td>0.206936</td>\n",
       "      <td>0.202868</td>\n",
       "      <td>0.204656</td>\n",
       "      <td>0.198132</td>\n",
       "      <td>0.199172</td>\n",
       "      <td>0.199729</td>\n",
       "      <td>...</td>\n",
       "      <td>0.197873</td>\n",
       "      <td>0.197227</td>\n",
       "      <td>0.197927</td>\n",
       "      <td>0.196748</td>\n",
       "      <td>0.197405</td>\n",
       "      <td>0.195925</td>\n",
       "      <td>0.198384</td>\n",
       "      <td>0.195999</td>\n",
       "      <td>0.195383</td>\n",
       "      <td>0.197555</td>\n",
       "    </tr>\n",
       "    <tr>\n",
       "      <th>prey_birth_rate</th>\n",
       "      <td>0.042259</td>\n",
       "      <td>0.049726</td>\n",
       "      <td>0.050589</td>\n",
       "      <td>0.041266</td>\n",
       "      <td>0.033111</td>\n",
       "      <td>0.032089</td>\n",
       "      <td>0.028494</td>\n",
       "      <td>0.027824</td>\n",
       "      <td>0.026172</td>\n",
       "      <td>0.027042</td>\n",
       "      <td>...</td>\n",
       "      <td>0.008624</td>\n",
       "      <td>0.009197</td>\n",
       "      <td>0.009364</td>\n",
       "      <td>0.009091</td>\n",
       "      <td>0.009429</td>\n",
       "      <td>0.009090</td>\n",
       "      <td>0.009806</td>\n",
       "      <td>0.009340</td>\n",
       "      <td>0.009208</td>\n",
       "      <td>0.009342</td>\n",
       "    </tr>\n",
       "  </tbody>\n",
       "</table>\n",
       "<p>4 rows × 99 columns</p>\n",
       "</div>"
      ],
      "text/plain": [
       "                         100       200       300       400       500   \\\n",
       "0                                                                       \n",
       "predation_rate       0.049438  0.039167  0.039330  0.034043  0.035316   \n",
       "predator_efficiency  0.594151  0.714140  0.690574  0.716902  0.724636   \n",
       "predator_loss_rate   0.314152  0.196968  0.219507  0.207789  0.206936   \n",
       "prey_birth_rate      0.042259  0.049726  0.050589  0.041266  0.033111   \n",
       "\n",
       "                         600       700       800       900       1000  ...  \\\n",
       "0                                                                      ...   \n",
       "predation_rate       0.039211  0.034040  0.029027  0.026138  0.025440  ...   \n",
       "predator_efficiency  0.725832  0.732810  0.745018  0.748518  0.747788  ...   \n",
       "predator_loss_rate   0.202868  0.204656  0.198132  0.199172  0.199729  ...   \n",
       "prey_birth_rate      0.032089  0.028494  0.027824  0.026172  0.027042  ...   \n",
       "\n",
       "                         9000      9100      9200      9300      9400  \\\n",
       "0                                                                       \n",
       "predation_rate       0.006897  0.007243  0.007394  0.007464  0.007135   \n",
       "predator_efficiency  0.786606  0.786334  0.785315  0.786698  0.786030   \n",
       "predator_loss_rate   0.197873  0.197227  0.197927  0.196748  0.197405   \n",
       "prey_birth_rate      0.008624  0.009197  0.009364  0.009091  0.009429   \n",
       "\n",
       "                         9500      9600      9700      9800      9900  \n",
       "0                                                                      \n",
       "predation_rate       0.006966  0.007503  0.007497  0.006931  0.007020  \n",
       "predator_efficiency  0.788019  0.784307  0.787163  0.788478  0.786084  \n",
       "predator_loss_rate   0.195925  0.198384  0.195999  0.195383  0.197555  \n",
       "prey_birth_rate      0.009090  0.009806  0.009340  0.009208  0.009342  \n",
       "\n",
       "[4 rows x 99 columns]"
      ]
     },
     "execution_count": 184,
     "metadata": {},
     "output_type": "execute_result"
    }
   ],
   "source": [
    "combined_scores = pd.concat(combined_scores, axis=1, sort=True)\n",
    "combined_scores"
   ]
  },
  {
   "cell_type": "code",
   "execution_count": 185,
   "metadata": {},
   "outputs": [
    {
     "data": {
      "image/png": "[encoded data removed]",
      "text/plain": [
       "<Figure size 640x480 with 1 Axes>"
      ]
     },
     "metadata": {},
     "output_type": "display_data"
    }
   ],
   "source": [
    "fig, ax = plt.subplots(1)\n",
    "\n",
    "combined_scores.T.plot(ax=ax)\n",
    "ax.legend(bbox_to_anchor=(1,1))\n",
    "ax.set_xlabel('Samples')\n",
    "ax.set_ylabel('feature scores')\n",
    "plt.show()"
   ]
  }
 ],
 "metadata": {
  "kernelspec": {
   "display_name": "Python 3",
   "language": "python",
   "name": "python3"
  },
  "language_info": {
   "codemirror_mode": {
    "name": "ipython",
    "version": 3
   },
   "file_extension": ".py",
   "mimetype": "text/x-python",
   "name": "python",
   "nbconvert_exporter": "python",
   "pygments_lexer": "ipython3",
   "version": "3.11.3"
  }
 },
 "nbformat": 4,
 "nbformat_minor": 2
}
